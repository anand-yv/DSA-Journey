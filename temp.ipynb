{
 "cells": [
  {
   "attachments": {},
   "cell_type": "markdown",
   "metadata": {},
   "source": [
    "# Sliding window Concept"
   ]
  },
  {
   "attachments": {},
   "cell_type": "markdown",
   "metadata": {},
   "source": [
    "Brute Force"
   ]
  },
  {
   "cell_type": "code",
   "execution_count": 5,
   "metadata": {},
   "outputs": [
    {
     "name": "stdout",
     "output_type": "stream",
     "text": [
      "lenght: 11\n",
      "2,3,4,9\n",
      "----------\n",
      "3,4,5,12\n",
      "----------\n",
      "4,5,3,12\n",
      "----------\n",
      "5,3,1,9\n",
      "----------\n",
      "3,1,2,6\n",
      "----------\n",
      "1,2,4,7\n",
      "----------\n",
      "2,4,5,11\n",
      "----------\n",
      "4,5,5,14\n",
      "----------\n",
      "5,5,3,13\n",
      "----------\n",
      "14\n"
     ]
    }
   ],
   "source": [
    "\n",
    "listo = [2, 3, 4, 5, 3, 1, 2, 4, 5, 5, 3]\n",
    "i, ans = 0, 0\n",
    "print(\"lenght:\", len(listo))\n",
    "while i < len(listo)-2:\n",
    "    temp = 0\n",
    "    for j in range(i, i+3):\n",
    "        temp += listo[j]\n",
    "        print(listo[j], end=\",\")\n",
    "    print(temp)\n",
    "    if temp > ans:\n",
    "        ans = temp\n",
    "    print(\"----------\")\n",
    "    i += 1\n",
    "print(ans)\n"
   ]
  },
  {
   "cell_type": "code",
   "execution_count": 12,
   "metadata": {},
   "outputs": [
    {
     "name": "stdout",
     "output_type": "stream",
     "text": [
      "[-552, 1, 1, 1, 1, 3, 3, 22, 35, 3445]\n"
     ]
    }
   ],
   "source": [
    "l = [1,3,1,3,1,35,22,1,3445,-552]\n",
    "a = sorted(l[:12])\n",
    "print(a)"
   ]
  },
  {
   "cell_type": "code",
   "execution_count": 9,
   "metadata": {},
   "outputs": [
    {
     "name": "stdout",
     "output_type": "stream",
     "text": [
      "3\n"
     ]
    }
   ],
   "source": [
    "l = [3,3,3,3,3,3,3,3,3,3,3,3,3,3]\n",
    "a = -2147483647 - 1\n",
    "for i in range(len(l)):\n",
    "    a = max(a,l[i])\n",
    "print(a)"
   ]
  }
 ],
 "metadata": {
  "kernelspec": {
   "display_name": "Python 3",
   "language": "python",
   "name": "python3"
  },
  "language_info": {
   "codemirror_mode": {
    "name": "ipython",
    "version": 3
   },
   "file_extension": ".py",
   "mimetype": "text/x-python",
   "name": "python",
   "nbconvert_exporter": "python",
   "pygments_lexer": "ipython3",
   "version": "3.10.8"
  },
  "orig_nbformat": 4
 },
 "nbformat": 4,
 "nbformat_minor": 2
}
