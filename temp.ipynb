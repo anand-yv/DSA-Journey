{
 "cells": [
  {
   "attachments": {},
   "cell_type": "markdown",
   "metadata": {},
   "source": [
    "# Sliding window Concept"
   ]
  },
  {
   "attachments": {},
   "cell_type": "markdown",
   "metadata": {},
   "source": [
    "Brute Force"
   ]
  },
  {
   "cell_type": "code",
   "execution_count": 5,
   "metadata": {},
   "outputs": [
    {
     "name": "stdout",
     "output_type": "stream",
     "text": [
      "lenght: 11\n",
      "2,3,4,9\n",
      "----------\n",
      "3,4,5,12\n",
      "----------\n",
      "4,5,3,12\n",
      "----------\n",
      "5,3,1,9\n",
      "----------\n",
      "3,1,2,6\n",
      "----------\n",
      "1,2,4,7\n",
      "----------\n",
      "2,4,5,11\n",
      "----------\n",
      "4,5,5,14\n",
      "----------\n",
      "5,5,3,13\n",
      "----------\n",
      "14\n"
     ]
    }
   ],
   "source": [
    "\n",
    "listo = [2, 3, 4, 5, 3, 1, 2, 4, 5, 5, 3]\n",
    "i, ans = 0, 0\n",
    "print(\"lenght:\", len(listo))\n",
    "while i < len(listo)-2:\n",
    "    temp = 0\n",
    "    for j in range(i, i+3):\n",
    "        temp += listo[j]\n",
    "        print(listo[j], end=\",\")\n",
    "    print(temp)\n",
    "    if temp > ans:\n",
    "        ans = temp\n",
    "    print(\"----------\")\n",
    "    i += 1\n",
    "print(ans)\n"
   ]
  },
  {
   "cell_type": "code",
   "execution_count": 12,
   "metadata": {},
   "outputs": [
    {
     "name": "stdout",
     "output_type": "stream",
     "text": [
      "[-552, 1, 1, 1, 1, 3, 3, 22, 35, 3445]\n"
     ]
    }
   ],
   "source": [
    "l = [1,3,1,3,1,35,22,1,3445,-552]\n",
    "a = sorted(l[:12])\n",
    "print(a)"
   ]
  },
  {
   "cell_type": "code",
   "execution_count": 9,
   "metadata": {},
   "outputs": [
    {
     "name": "stdout",
     "output_type": "stream",
     "text": [
      "3\n"
     ]
    }
   ],
   "source": [
    "l = [3,3,3,3,3,3,3,3,3,3,3,3,3,3]\n",
    "a = -2147483647 - 1\n",
    "for i in range(len(l)):\n",
    "    a = max(a,l[i])\n",
    "print(a)"
   ]
  },
  {
   "cell_type": "code",
   "execution_count": 1,
   "metadata": {},
   "outputs": [
    {
     "name": "stdout",
     "output_type": "stream",
     "text": [
      "0\n",
      "1\n"
     ]
    }
   ],
   "source": [
    "a = 0\n",
    "l = 1 if a == 1 else 0\n",
    "print(l)\n",
    "a = 1\n",
    "l = 0 if a == 0 else 1\n",
    "print(l)"
   ]
  },
  {
   "cell_type": "code",
   "execution_count": 3,
   "metadata": {},
   "outputs": [
    {
     "name": "stdout",
     "output_type": "stream",
     "text": [
      "[0, 0, 0, 0, 0]\n"
     ]
    }
   ],
   "source": [
    "# l= [[0] * 5 for i in range(5)]\n",
    "l = [0] * 5\n",
    "print(l)"
   ]
  },
  {
   "cell_type": "code",
   "execution_count": 5,
   "metadata": {},
   "outputs": [
    {
     "name": "stdout",
     "output_type": "stream",
     "text": [
      "1\n"
     ]
    }
   ],
   "source": [
    "s = str(101010101)\n",
    "print(s[2])"
   ]
  },
  {
   "cell_type": "code",
   "execution_count": 19,
   "metadata": {},
   "outputs": [
    {
     "name": "stdout",
     "output_type": "stream",
     "text": [
      "999\n",
      "0 9 ---- 2 9\n",
      "1 9 ---- 1 9\n",
      "1000\n",
      "0 1 ---- 3 0\n",
      "1001\n",
      "0 1 ---- 3 1\n",
      "1 0 ---- 2 0\n",
      "1001\n"
     ]
    }
   ],
   "source": [
    "def check_pallindrome(s, length):\n",
    "    print(s)\n",
    "    left = 0\n",
    "    right = length - 1\n",
    "    while right >= left:\n",
    "        print(left, s[left],\"----\",right,s[right])\n",
    "        if s[right] != s[left]:\n",
    "            return 0\n",
    "        right -= 1\n",
    "        left += 1\n",
    "    return 1\n",
    "\n",
    "# s = input(\"Enter number\")\n",
    "s = \"999\"\n",
    "length = len(s)\n",
    "s = int(s)\n",
    "if check_pallindrome(str(s), len(str(s))) == 1:\n",
    "    s = s + 1\n",
    "while check_pallindrome(str(s), len(str(s))) == 0:\n",
    "    s = s+1\n",
    "print(str(s))"
   ]
  },
  {
   "cell_type": "code",
   "execution_count": 20,
   "metadata": {},
   "outputs": [
    {
     "ename": "NameError",
     "evalue": "name 'df' is not defined",
     "output_type": "error",
     "traceback": [
      "\u001b[1;31m---------------------------------------------------------------------------\u001b[0m",
      "\u001b[1;31mNameError\u001b[0m                                 Traceback (most recent call last)",
      "Cell \u001b[1;32mIn[20], line 8\u001b[0m\n\u001b[0;32m      3\u001b[0m \u001b[39mimport\u001b[39;00m \u001b[39mmatplotlib\u001b[39;00m\u001b[39m.\u001b[39;00m\u001b[39mpyplot\u001b[39;00m \u001b[39mas\u001b[39;00m \u001b[39mplt\u001b[39;00m\n\u001b[0;32m      4\u001b[0m \u001b[39mimport\u001b[39;00m \u001b[39mseaborn\u001b[39;00m \u001b[39mas\u001b[39;00m \u001b[39msns\u001b[39;00m\n\u001b[1;32m----> 8\u001b[0m df\u001b[39m.\u001b[39mhead()\n\u001b[0;32m     10\u001b[0m sns\u001b[39m.\u001b[39mboxplot( x\u001b[39m=\u001b[39m\u001b[39m'\u001b[39m\u001b[39mraisedhands\u001b[39m\u001b[39m'\u001b[39m, y\u001b[39m=\u001b[39m\u001b[39m'\u001b[39m\u001b[39mVisITedResources\u001b[39m\u001b[39m'\u001b[39m, data\u001b[39m=\u001b[39mdf)\n\u001b[0;32m     11\u001b[0m plt\u001b[39m.\u001b[39mshow()\n",
      "\u001b[1;31mNameError\u001b[0m: name 'df' is not defined"
     ]
    }
   ],
   "source": [
    "import pandas as pd\n",
    "import numpy as np\n",
    "import matplotlib.pyplot as plt\n",
    "import seaborn as sns\n",
    "\n",
    "\n",
    "\n",
    "df.head()\n",
    "\n",
    "sns.boxplot( x='raisedhands', y='VisITedResources', data=df)\n",
    "plt.show()\n",
    "\n",
    "print(df['raisedhands'].mean())\n",
    "print(df['raisedhands'].std())\n",
    "print(df['raisedhands'].min())\n",
    "print(df['raisedhands'].max())\n",
    "print(df['raisedhands'].median())\n",
    "print(df['raisedhands'].count())"
   ]
  },
  {
   "cell_type": "code",
   "execution_count": 21,
   "metadata": {},
   "outputs": [
    {
     "ename": "IndentationError",
     "evalue": "expected an indented block after 'for' statement on line 19 (3584455922.py, line 20)",
     "output_type": "error",
     "traceback": [
      "\u001b[1;36m  Cell \u001b[1;32mIn[21], line 20\u001b[1;36m\u001b[0m\n\u001b[1;33m    arr = arr + [min1 + w * i]\u001b[0m\n\u001b[1;37m    ^\u001b[0m\n\u001b[1;31mIndentationError\u001b[0m\u001b[1;31m:\u001b[0m expected an indented block after 'for' statement on line 19\n"
     ]
    }
   ],
   "source": [
    "\n",
    "\n",
    "# equal frequency\n",
    "def equifreq(arr1, m):\n",
    "  a = len(arr1)\n",
    "  n = int(a / m)\n",
    "  for i in range(0, m):\n",
    "    arr = []\n",
    "    for j in range(i * n, (i + 1) * n):\n",
    "      if j >= a:\n",
    "        break\n",
    "      arr = arr + [arr1[j]]\n",
    "    print(arr)\n",
    "\n",
    "# equal width\n",
    "def equiwidth(arr1, m):\n",
    "  a = len(arr1)\n",
    "  w = int((max(arr1) - min(arr1)) / m)\n",
    "  min1 = min(arr1)\n",
    "  arr = []\n",
    "  for i in range(0, m + 1):\n",
    "  arr = arr + [min1 + w * i]\n",
    "  arr1=[]\n",
    "\n",
    "  for 1 in range(0, m):\n",
    "    temp = []\n",
    "    for j in arrl:\n",
    "      if j >= arr[i] and j <= arr[i+1]:\n",
    "        temp += [j]\n",
    "    arr1 += [temp]\n",
    "  print(arr1)\n",
    "\n",
    "# data to be binned\n",
    "data = [5, 10, 11, 13, 15, 35, 50, 55, 72, 92, 204, 215]\n",
    "\n",
    "# no of bins\n",
    "m=3\n",
    "\n",
    "print(\"equal frequency binning\")\n",
    "equifreq(data, m)\n",
    "\n",
    "print(\"\\n\\nequal width binning\")\n",
    "equiwidth(data, 3)\n",
    "\n",
    " "
   ]
  },
  {
   "cell_type": "code",
   "execution_count": 9,
   "metadata": {},
   "outputs": [
    {
     "name": "stdout",
     "output_type": "stream",
     "text": [
      "[5, 8, 9, 3, 6, 4]\n",
      "[5, 8, 9, 3, 6, 4]\n",
      "[4, 6, 3, 9, 8, 5]\n",
      "[6, 3, 9, 8, 5]\n"
     ]
    }
   ],
   "source": [
    "l = [5,8,9,3,6,4]\n",
    "print(l)\n",
    "print(l[::])\n",
    "print(l[::-1])\n",
    "print(l[::-1][1:])"
   ]
  },
  {
   "cell_type": "code",
   "execution_count": 10,
   "metadata": {},
   "outputs": [
    {
     "ename": "NameError",
     "evalue": "name 'stdin' is not defined",
     "output_type": "error",
     "traceback": [
      "\u001b[1;31m---------------------------------------------------------------------------\u001b[0m",
      "\u001b[1;31mNameError\u001b[0m                                 Traceback (most recent call last)",
      "Cell \u001b[1;32mIn[10], line 10\u001b[0m\n\u001b[0;32m      8\u001b[0m tc \u001b[39m=\u001b[39m \u001b[39mint\u001b[39m(\u001b[39minput\u001b[39m())\n\u001b[0;32m      9\u001b[0m \u001b[39mwhile\u001b[39;00m tc \u001b[39m>\u001b[39m \u001b[39m0\u001b[39m:\n\u001b[1;32m---> 10\u001b[0m     N, S \u001b[39m=\u001b[39m takeInput()\n\u001b[0;32m     11\u001b[0m     S \u001b[39m=\u001b[39m nextLargestPalindrome(S, N)\n\u001b[0;32m     12\u001b[0m     stdout\u001b[39m.\u001b[39mwrite(S \u001b[39m+\u001b[39m \u001b[39m\"\u001b[39m\u001b[39m\\n\u001b[39;00m\u001b[39m\"\u001b[39m)\n",
      "Cell \u001b[1;32mIn[10], line 3\u001b[0m, in \u001b[0;36mtakeInput\u001b[1;34m()\u001b[0m\n\u001b[0;32m      2\u001b[0m \u001b[39mdef\u001b[39;00m \u001b[39mtakeInput\u001b[39m():\n\u001b[1;32m----> 3\u001b[0m     N \u001b[39m=\u001b[39m \u001b[39mint\u001b[39m(stdin\u001b[39m.\u001b[39mreadline())\n\u001b[0;32m      4\u001b[0m     S \u001b[39m=\u001b[39m stdin\u001b[39m.\u001b[39mreadline()\u001b[39m.\u001b[39mstrip()\n\u001b[0;32m      5\u001b[0m     \u001b[39mreturn\u001b[39;00m N, S\n",
      "\u001b[1;31mNameError\u001b[0m: name 'stdin' is not defined"
     ]
    }
   ],
   "source": [
    "# Taking input using fast I/0.\n",
    "def takeInput():\n",
    "    N = int(stdin.readline())\n",
    "    S = stdin.readline().strip()\n",
    "    return N, S\n",
    "\n",
    "\n",
    "tc = int(input())\n",
    "while tc > 0:\n",
    "    N, S = takeInput()\n",
    "    S = nextLargestPalindrome(S, N)\n",
    "    stdout.write(S + \"\\n\")\n",
    "    tc -= 1"
   ]
  }
 ],
 "metadata": {
  "kernelspec": {
   "display_name": "Python 3",
   "language": "python",
   "name": "python3"
  },
  "language_info": {
   "codemirror_mode": {
    "name": "ipython",
    "version": 3
   },
   "file_extension": ".py",
   "mimetype": "text/x-python",
   "name": "python",
   "nbconvert_exporter": "python",
   "pygments_lexer": "ipython3",
   "version": "3.10.8"
  },
  "orig_nbformat": 4
 },
 "nbformat": 4,
 "nbformat_minor": 2
}
