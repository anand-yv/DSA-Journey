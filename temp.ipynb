{
 "cells": [
  {
   "attachments": {},
   "cell_type": "markdown",
   "metadata": {},
   "source": [
    "# Sliding window Concept"
   ]
  },
  {
   "attachments": {},
   "cell_type": "markdown",
   "metadata": {},
   "source": [
    "Brute Force"
   ]
  },
  {
   "cell_type": "code",
   "execution_count": null,
   "metadata": {},
   "outputs": [],
   "source": [
    "\n",
    "listo = [2, 3, 4, 5, 3, 1, 2, 4, 5, 5, 3]\n",
    "i, ans = 0, 0\n",
    "print(\"lenght:\", len(listo))\n",
    "while i < len(listo)-2:\n",
    "    temp = 0\n",
    "    for j in range(i, i+3):\n",
    "        temp += listo[j]\n",
    "        print(listo[j], end=\",\")\n",
    "    print(temp)\n",
    "    if temp > ans:\n",
    "        ans = temp\n",
    "    print(\"----------\")\n",
    "    i += 1\n",
    "print(ans)\n"
   ]
  },
  {
   "cell_type": "code",
   "execution_count": null,
   "metadata": {},
   "outputs": [],
   "source": [
    "l = [1,3,1,3,1,35,22,1,3445,-552]\n",
    "a = sorted(l[:12])\n",
    "print(a)"
   ]
  },
  {
   "cell_type": "code",
   "execution_count": null,
   "metadata": {},
   "outputs": [],
   "source": [
    "l = [3,3,3,3,3,3,3,3,3,3,3,3,3,3]\n",
    "a = -2147483647 - 1\n",
    "for i in range(len(l)):\n",
    "    a = max(a,l[i])\n",
    "print(a)"
   ]
  },
  {
   "cell_type": "code",
   "execution_count": null,
   "metadata": {},
   "outputs": [],
   "source": [
    "a = 0\n",
    "l = 1 if a == 1 else 0\n",
    "print(l)\n",
    "a = 1\n",
    "l = 0 if a == 0 else 1\n",
    "print(l)"
   ]
  },
  {
   "cell_type": "code",
   "execution_count": null,
   "metadata": {},
   "outputs": [],
   "source": [
    "# l= [[0] * 5 for i in range(5)]\n",
    "l = [0] * 5\n",
    "print(l)"
   ]
  },
  {
   "cell_type": "code",
   "execution_count": null,
   "metadata": {},
   "outputs": [],
   "source": [
    "s = str(101010101)\n",
    "print(s[2])"
   ]
  },
  {
   "cell_type": "code",
   "execution_count": null,
   "metadata": {},
   "outputs": [],
   "source": [
    "def check_pallindrome(s, length):\n",
    "    print(s)\n",
    "    left = 0\n",
    "    right = length - 1\n",
    "    while right >= left:\n",
    "        print(left, s[left],\"----\",right,s[right])\n",
    "        if s[right] != s[left]:\n",
    "            return 0\n",
    "        right -= 1\n",
    "        left += 1\n",
    "    return 1\n",
    "\n",
    "# s = input(\"Enter number\")\n",
    "s = \"999\"\n",
    "length = len(s)\n",
    "s = int(s)\n",
    "if check_pallindrome(str(s), len(str(s))) == 1:\n",
    "    s = s + 1\n",
    "while check_pallindrome(str(s), len(str(s))) == 0:\n",
    "    s = s+1\n",
    "print(str(s))"
   ]
  },
  {
   "cell_type": "code",
   "execution_count": null,
   "metadata": {},
   "outputs": [],
   "source": [
    "import pandas as pd\n",
    "import numpy as np\n",
    "import matplotlib.pyplot as plt\n",
    "import seaborn as sns\n",
    "\n",
    "\n",
    "\n",
    "df.head()\n",
    "\n",
    "sns.boxplot( x='raisedhands', y='VisITedResources', data=df)\n",
    "plt.show()\n",
    "\n",
    "print(df['raisedhands'].mean())\n",
    "print(df['raisedhands'].std())\n",
    "print(df['raisedhands'].min())\n",
    "print(df['raisedhands'].max())\n",
    "print(df['raisedhands'].median())\n",
    "print(df['raisedhands'].count())"
   ]
  },
  {
   "cell_type": "code",
   "execution_count": null,
   "metadata": {},
   "outputs": [],
   "source": [
    "\n",
    "\n",
    "# equal frequency\n",
    "def equifreq(arr1, m):\n",
    "  a = len(arr1)\n",
    "  n = int(a / m)\n",
    "  for i in range(0, m):\n",
    "    arr = []\n",
    "    for j in range(i * n, (i + 1) * n):\n",
    "      if j >= a:\n",
    "        break\n",
    "      arr = arr + [arr1[j]]\n",
    "    print(arr)\n",
    "\n",
    "# equal width\n",
    "def equiwidth(arr1, m):\n",
    "  a = len(arr1)\n",
    "  w = int((max(arr1) - min(arr1)) / m)\n",
    "  min1 = min(arr1)\n",
    "  arr = []\n",
    "  for i in range(0, m + 1):\n",
    "  arr = arr + [min1 + w * i]\n",
    "  arr1=[]\n",
    "\n",
    "  for 1 in range(0, m):\n",
    "    temp = []\n",
    "    for j in arrl:\n",
    "      if j >= arr[i] and j <= arr[i+1]:\n",
    "        temp += [j]\n",
    "    arr1 += [temp]\n",
    "  print(arr1)\n",
    "\n",
    "# data to be binned\n",
    "data = [5, 10, 11, 13, 15, 35, 50, 55, 72, 92, 204, 215]\n",
    "\n",
    "# no of bins\n",
    "m=3\n",
    "\n",
    "print(\"equal frequency binning\")\n",
    "equifreq(data, m)\n",
    "\n",
    "print(\"\\n\\nequal width binning\")\n",
    "equiwidth(data, 3)\n",
    "\n",
    " "
   ]
  },
  {
   "cell_type": "code",
   "execution_count": null,
   "metadata": {},
   "outputs": [],
   "source": [
    "l = [5,8,9,3,6,4]\n",
    "print(l)\n",
    "print(l[::])\n",
    "print(l[::-1])\n",
    "print(l[::-1][1:])"
   ]
  },
  {
   "cell_type": "code",
   "execution_count": null,
   "metadata": {},
   "outputs": [],
   "source": [
    "# Taking input using fast I/0.\n",
    "def takeInput():\n",
    "    N = int(stdin.readline())\n",
    "    S = stdin.readline().strip()\n",
    "    return N, S\n",
    "\n",
    "\n",
    "tc = int(input())\n",
    "while tc > 0:\n",
    "    N, S = takeInput()\n",
    "    S = nextLargestPalindrome(S, N)\n",
    "    stdout.write(S + \"\\n\")\n",
    "    tc -= 1"
   ]
  },
  {
   "cell_type": "code",
   "execution_count": null,
   "metadata": {},
   "outputs": [],
   "source": [
    "print(24|9)"
   ]
  },
  {
   "cell_type": "code",
   "execution_count": null,
   "metadata": {},
   "outputs": [],
   "source": [
    "temp = []\n",
    "temp.append(3)\n",
    "temp.remove(3)\n",
    "print(temp[0])"
   ]
  },
  {
   "cell_type": "code",
   "execution_count": null,
   "metadata": {},
   "outputs": [],
   "source": [
    "a = [\"baa\",\"ANANAND\",\"ajaja\",\"nj\",\"ZZZZ\"]\n",
    "a.sort()\n",
    "a"
   ]
  }
 ],
 "metadata": {
  "kernelspec": {
   "display_name": "Python 3",
   "language": "python",
   "name": "python3"
  },
  "language_info": {
   "codemirror_mode": {
    "name": "ipython",
    "version": 3
   },
   "file_extension": ".py",
   "mimetype": "text/x-python",
   "name": "python",
   "nbconvert_exporter": "python",
   "pygments_lexer": "ipython3",
   "version": "3.10.8"
  },
  "orig_nbformat": 4
 },
 "nbformat": 4,
 "nbformat_minor": 2
}
